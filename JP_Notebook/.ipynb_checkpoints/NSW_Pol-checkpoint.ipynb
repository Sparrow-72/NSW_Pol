{
 "cells": [
  {
   "cell_type": "code",
   "execution_count": 2,
   "metadata": {},
   "outputs": [],
   "source": [
    "# Import libraries\n",
    "import pandas as pd\n",
    "import numpy as np"
   ]
  },
  {
   "cell_type": "code",
   "execution_count": 10,
   "metadata": {},
   "outputs": [
    {
     "data": {
      "text/plain": [
       "'0.23.0'"
      ]
     },
     "execution_count": 10,
     "metadata": {},
     "output_type": "execute_result"
    }
   ],
   "source": [
    "pd.__version__"
   ]
  },
  {
   "cell_type": "code",
   "execution_count": 16,
   "metadata": {},
   "outputs": [],
   "source": [
    "# Path to data file\n",
    "url = 'https://raw.githubusercontent.com/Sparrow-72/NSW_Pol/master/Data_sets/Raw_data/Penalty_notice.csv'"
   ]
  },
  {
   "cell_type": "code",
   "execution_count": 17,
   "metadata": {},
   "outputs": [],
   "source": [
    "df = pd.read_csv(url)"
   ]
  },
  {
   "cell_type": "code",
   "execution_count": 18,
   "metadata": {},
   "outputs": [
    {
     "data": {
      "text/html": [
       "<div>\n",
       "<style scoped>\n",
       "    .dataframe tbody tr th:only-of-type {\n",
       "        vertical-align: middle;\n",
       "    }\n",
       "\n",
       "    .dataframe tbody tr th {\n",
       "        vertical-align: top;\n",
       "    }\n",
       "\n",
       "    .dataframe thead th {\n",
       "        text-align: right;\n",
       "    }\n",
       "</style>\n",
       "<table border=\"1\" class=\"dataframe\">\n",
       "  <thead>\n",
       "    <tr style=\"text-align: right;\">\n",
       "      <th></th>\n",
       "      <th>OFFENCE_FINYEAR</th>\n",
       "      <th>OFFENCE_MONTH</th>\n",
       "      <th>OFFENCE_CODE</th>\n",
       "      <th>OFFENCE_DESC</th>\n",
       "      <th>LEGISLATION</th>\n",
       "      <th>SECTION_CLAUSE</th>\n",
       "      <th>FACE_VALUE</th>\n",
       "      <th>CAMERA_IND</th>\n",
       "      <th>CAMERA_TYPE</th>\n",
       "      <th>LOCATION_CODE</th>\n",
       "      <th>...</th>\n",
       "      <th>RED_LIGHT_CAMERA_IND</th>\n",
       "      <th>SPEED_CAMERA_IND</th>\n",
       "      <th>SEATBELT_IND</th>\n",
       "      <th>MOBILE_PHONE_IND</th>\n",
       "      <th>PARKING_IND</th>\n",
       "      <th>CINS_IND</th>\n",
       "      <th>FOOD_IND</th>\n",
       "      <th>BICYCLE_TOY_ETC_IND</th>\n",
       "      <th>TOTAL_NUMBER</th>\n",
       "      <th>TOTAL_VALUE</th>\n",
       "    </tr>\n",
       "  </thead>\n",
       "  <tbody>\n",
       "    <tr>\n",
       "      <th>0</th>\n",
       "      <td>2015-2016</td>\n",
       "      <td>01/07/2015</td>\n",
       "      <td>82616</td>\n",
       "      <td>Park continuously for longer than permitted</td>\n",
       "      <td>ROAD RULES 2014</td>\n",
       "      <td>205</td>\n",
       "      <td>106</td>\n",
       "      <td>NaN</td>\n",
       "      <td>NaN</td>\n",
       "      <td>NaN</td>\n",
       "      <td>...</td>\n",
       "      <td>NaN</td>\n",
       "      <td>NaN</td>\n",
       "      <td>NaN</td>\n",
       "      <td>NaN</td>\n",
       "      <td>Y</td>\n",
       "      <td>NaN</td>\n",
       "      <td>NaN</td>\n",
       "      <td>NaN</td>\n",
       "      <td>23009</td>\n",
       "      <td>2438954</td>\n",
       "    </tr>\n",
       "    <tr>\n",
       "      <th>1</th>\n",
       "      <td>2012-2013</td>\n",
       "      <td>01/01/2013</td>\n",
       "      <td>24703</td>\n",
       "      <td>Exceed speed limit over 10km/h - Camera Detected</td>\n",
       "      <td>ROAD RULES 2008</td>\n",
       "      <td>20</td>\n",
       "      <td>1215</td>\n",
       "      <td>Y</td>\n",
       "      <td>Mobile Digital Speed Camera</td>\n",
       "      <td>28330.0</td>\n",
       "      <td>...</td>\n",
       "      <td>NaN</td>\n",
       "      <td>Y</td>\n",
       "      <td>NaN</td>\n",
       "      <td>NaN</td>\n",
       "      <td>NaN</td>\n",
       "      <td>NaN</td>\n",
       "      <td>NaN</td>\n",
       "      <td>NaN</td>\n",
       "      <td>1</td>\n",
       "      <td>1215</td>\n",
       "    </tr>\n",
       "    <tr>\n",
       "      <th>2</th>\n",
       "      <td>2012-2013</td>\n",
       "      <td>01/01/2013</td>\n",
       "      <td>64007</td>\n",
       "      <td>Proceed through red traffic arrow</td>\n",
       "      <td>ROAD RULES 2008</td>\n",
       "      <td>60</td>\n",
       "      <td>397</td>\n",
       "      <td>NaN</td>\n",
       "      <td>NaN</td>\n",
       "      <td>NaN</td>\n",
       "      <td>...</td>\n",
       "      <td>NaN</td>\n",
       "      <td>NaN</td>\n",
       "      <td>NaN</td>\n",
       "      <td>NaN</td>\n",
       "      <td>NaN</td>\n",
       "      <td>NaN</td>\n",
       "      <td>NaN</td>\n",
       "      <td>NaN</td>\n",
       "      <td>94</td>\n",
       "      <td>37318</td>\n",
       "    </tr>\n",
       "  </tbody>\n",
       "</table>\n",
       "<p>3 rows × 25 columns</p>\n",
       "</div>"
      ],
      "text/plain": [
       "  OFFENCE_FINYEAR OFFENCE_MONTH  OFFENCE_CODE  \\\n",
       "0       2015-2016    01/07/2015         82616   \n",
       "1       2012-2013    01/01/2013         24703   \n",
       "2       2012-2013    01/01/2013         64007   \n",
       "\n",
       "                                       OFFENCE_DESC      LEGISLATION  \\\n",
       "0       Park continuously for longer than permitted  ROAD RULES 2014   \n",
       "1  Exceed speed limit over 10km/h - Camera Detected  ROAD RULES 2008   \n",
       "2                 Proceed through red traffic arrow  ROAD RULES 2008   \n",
       "\n",
       "  SECTION_CLAUSE  FACE_VALUE CAMERA_IND                  CAMERA_TYPE  \\\n",
       "0            205         106        NaN                          NaN   \n",
       "1             20        1215          Y  Mobile Digital Speed Camera   \n",
       "2             60         397        NaN                          NaN   \n",
       "\n",
       "   LOCATION_CODE     ...     RED_LIGHT_CAMERA_IND SPEED_CAMERA_IND  \\\n",
       "0            NaN     ...                      NaN              NaN   \n",
       "1        28330.0     ...                      NaN                Y   \n",
       "2            NaN     ...                      NaN              NaN   \n",
       "\n",
       "  SEATBELT_IND MOBILE_PHONE_IND PARKING_IND CINS_IND FOOD_IND  \\\n",
       "0          NaN              NaN           Y      NaN      NaN   \n",
       "1          NaN              NaN         NaN      NaN      NaN   \n",
       "2          NaN              NaN         NaN      NaN      NaN   \n",
       "\n",
       "  BICYCLE_TOY_ETC_IND TOTAL_NUMBER TOTAL_VALUE  \n",
       "0                 NaN        23009     2438954  \n",
       "1                 NaN            1        1215  \n",
       "2                 NaN           94       37318  \n",
       "\n",
       "[3 rows x 25 columns]"
      ]
     },
     "execution_count": 18,
     "metadata": {},
     "output_type": "execute_result"
    }
   ],
   "source": [
    "df.head(3)"
   ]
  }
 ],
 "metadata": {
  "kernelspec": {
   "display_name": "Python 3",
   "language": "python",
   "name": "python3"
  },
  "language_info": {
   "codemirror_mode": {
    "name": "ipython",
    "version": 3
   },
   "file_extension": ".py",
   "mimetype": "text/x-python",
   "name": "python",
   "nbconvert_exporter": "python",
   "pygments_lexer": "ipython3",
   "version": "3.5.5"
  }
 },
 "nbformat": 4,
 "nbformat_minor": 2
}
