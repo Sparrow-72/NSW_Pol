{
 "cells": [
  {
   "cell_type": "code",
   "execution_count": 1,
   "metadata": {},
   "outputs": [
    {
     "name": "stdout",
     "output_type": "stream",
     "text": [
      "Pandas Version 0.23.4\n",
      "Numpy Version 1.15.1\n",
      "Seaborn Version 0.9.0\n"
     ]
    }
   ],
   "source": [
    "# Import libraries dependencies\n",
    "import pandas as pd\n",
    "import numpy as np\n",
    "import matplotlib.pyplot as plt\n",
    "import seaborn as sns\n",
    "\n",
    "%matplotlib inline  \n",
    "\n",
    "# Print libraries version\n",
    "lib = {'Pandas':pd, 'Numpy':np, 'Seaborn':sns}\n",
    "for k, v in lib.items():\n",
    "    ver = v.__version__\n",
    "    print('{} Version {}'.format(k, ver))"
   ]
  },
  {
   "cell_type": "code",
   "execution_count": 3,
   "metadata": {},
   "outputs": [],
   "source": [
    "# Set path to data file\n",
    "url = 'https://raw.githubusercontent.com/Sparrow-72/NSW_Pol/master/Data_sets/Raw_data/Penalty_notice.csv'"
   ]
  },
  {
   "cell_type": "code",
   "execution_count": 48,
   "metadata": {},
   "outputs": [],
   "source": [
    "# Read the data as csv file\n",
    "df = pd.read_csv(url)"
   ]
  },
  {
   "cell_type": "code",
   "execution_count": 49,
   "metadata": {
    "scrolled": false
   },
   "outputs": [
    {
     "data": {
      "text/html": [
       "<div>\n",
       "<style scoped>\n",
       "    .dataframe tbody tr th:only-of-type {\n",
       "        vertical-align: middle;\n",
       "    }\n",
       "\n",
       "    .dataframe tbody tr th {\n",
       "        vertical-align: top;\n",
       "    }\n",
       "\n",
       "    .dataframe thead th {\n",
       "        text-align: right;\n",
       "    }\n",
       "</style>\n",
       "<table border=\"1\" class=\"dataframe\">\n",
       "  <thead>\n",
       "    <tr style=\"text-align: right;\">\n",
       "      <th></th>\n",
       "      <th>OFFENCE_FINYEAR</th>\n",
       "      <th>OFFENCE_MONTH</th>\n",
       "      <th>OFFENCE_CODE</th>\n",
       "      <th>OFFENCE_DESC</th>\n",
       "      <th>LEGISLATION</th>\n",
       "      <th>SECTION_CLAUSE</th>\n",
       "      <th>FACE_VALUE</th>\n",
       "      <th>CAMERA_IND</th>\n",
       "      <th>CAMERA_TYPE</th>\n",
       "      <th>LOCATION_CODE</th>\n",
       "      <th>...</th>\n",
       "      <th>RED_LIGHT_CAMERA_IND</th>\n",
       "      <th>SPEED_CAMERA_IND</th>\n",
       "      <th>SEATBELT_IND</th>\n",
       "      <th>MOBILE_PHONE_IND</th>\n",
       "      <th>PARKING_IND</th>\n",
       "      <th>CINS_IND</th>\n",
       "      <th>FOOD_IND</th>\n",
       "      <th>BICYCLE_TOY_ETC_IND</th>\n",
       "      <th>TOTAL_NUMBER</th>\n",
       "      <th>TOTAL_VALUE</th>\n",
       "    </tr>\n",
       "  </thead>\n",
       "  <tbody>\n",
       "    <tr>\n",
       "      <th>0</th>\n",
       "      <td>2015-2016</td>\n",
       "      <td>01/07/2015</td>\n",
       "      <td>82616</td>\n",
       "      <td>Park continuously for longer than permitted</td>\n",
       "      <td>ROAD RULES 2014</td>\n",
       "      <td>205</td>\n",
       "      <td>106</td>\n",
       "      <td>NaN</td>\n",
       "      <td>NaN</td>\n",
       "      <td>NaN</td>\n",
       "      <td>...</td>\n",
       "      <td>NaN</td>\n",
       "      <td>NaN</td>\n",
       "      <td>NaN</td>\n",
       "      <td>NaN</td>\n",
       "      <td>Y</td>\n",
       "      <td>NaN</td>\n",
       "      <td>NaN</td>\n",
       "      <td>NaN</td>\n",
       "      <td>23009</td>\n",
       "      <td>2438954</td>\n",
       "    </tr>\n",
       "    <tr>\n",
       "      <th>1</th>\n",
       "      <td>2012-2013</td>\n",
       "      <td>01/01/2013</td>\n",
       "      <td>24703</td>\n",
       "      <td>Exceed speed limit over 10km/h - Camera Detected</td>\n",
       "      <td>ROAD RULES 2008</td>\n",
       "      <td>20</td>\n",
       "      <td>1215</td>\n",
       "      <td>Y</td>\n",
       "      <td>Mobile Digital Speed Camera</td>\n",
       "      <td>28330.0</td>\n",
       "      <td>...</td>\n",
       "      <td>NaN</td>\n",
       "      <td>Y</td>\n",
       "      <td>NaN</td>\n",
       "      <td>NaN</td>\n",
       "      <td>NaN</td>\n",
       "      <td>NaN</td>\n",
       "      <td>NaN</td>\n",
       "      <td>NaN</td>\n",
       "      <td>1</td>\n",
       "      <td>1215</td>\n",
       "    </tr>\n",
       "    <tr>\n",
       "      <th>2</th>\n",
       "      <td>2012-2013</td>\n",
       "      <td>01/01/2013</td>\n",
       "      <td>64007</td>\n",
       "      <td>Proceed through red traffic arrow</td>\n",
       "      <td>ROAD RULES 2008</td>\n",
       "      <td>60</td>\n",
       "      <td>397</td>\n",
       "      <td>NaN</td>\n",
       "      <td>NaN</td>\n",
       "      <td>NaN</td>\n",
       "      <td>...</td>\n",
       "      <td>NaN</td>\n",
       "      <td>NaN</td>\n",
       "      <td>NaN</td>\n",
       "      <td>NaN</td>\n",
       "      <td>NaN</td>\n",
       "      <td>NaN</td>\n",
       "      <td>NaN</td>\n",
       "      <td>NaN</td>\n",
       "      <td>94</td>\n",
       "      <td>37318</td>\n",
       "    </tr>\n",
       "  </tbody>\n",
       "</table>\n",
       "<p>3 rows × 25 columns</p>\n",
       "</div>"
      ],
      "text/plain": [
       "  OFFENCE_FINYEAR OFFENCE_MONTH  OFFENCE_CODE  \\\n",
       "0       2015-2016    01/07/2015         82616   \n",
       "1       2012-2013    01/01/2013         24703   \n",
       "2       2012-2013    01/01/2013         64007   \n",
       "\n",
       "                                       OFFENCE_DESC      LEGISLATION  \\\n",
       "0       Park continuously for longer than permitted  ROAD RULES 2014   \n",
       "1  Exceed speed limit over 10km/h - Camera Detected  ROAD RULES 2008   \n",
       "2                 Proceed through red traffic arrow  ROAD RULES 2008   \n",
       "\n",
       "  SECTION_CLAUSE  FACE_VALUE CAMERA_IND                  CAMERA_TYPE  \\\n",
       "0            205         106        NaN                          NaN   \n",
       "1             20        1215          Y  Mobile Digital Speed Camera   \n",
       "2             60         397        NaN                          NaN   \n",
       "\n",
       "   LOCATION_CODE     ...     RED_LIGHT_CAMERA_IND SPEED_CAMERA_IND  \\\n",
       "0            NaN     ...                      NaN              NaN   \n",
       "1        28330.0     ...                      NaN                Y   \n",
       "2            NaN     ...                      NaN              NaN   \n",
       "\n",
       "  SEATBELT_IND MOBILE_PHONE_IND PARKING_IND CINS_IND FOOD_IND  \\\n",
       "0          NaN              NaN           Y      NaN      NaN   \n",
       "1          NaN              NaN         NaN      NaN      NaN   \n",
       "2          NaN              NaN         NaN      NaN      NaN   \n",
       "\n",
       "  BICYCLE_TOY_ETC_IND TOTAL_NUMBER TOTAL_VALUE  \n",
       "0                 NaN        23009     2438954  \n",
       "1                 NaN            1        1215  \n",
       "2                 NaN           94       37318  \n",
       "\n",
       "[3 rows x 25 columns]"
      ]
     },
     "execution_count": 49,
     "metadata": {},
     "output_type": "execute_result"
    }
   ],
   "source": [
    "# Look at the data header for an initial idea of the data\n",
    "df.head(3)"
   ]
  },
  {
   "cell_type": "code",
   "execution_count": 14,
   "metadata": {
    "scrolled": true
   },
   "outputs": [
    {
     "name": "stdout",
     "output_type": "stream",
     "text": [
      "<class 'pandas.core.frame.DataFrame'>\n",
      "RangeIndex: 285444 entries, 0 to 285443\n",
      "Data columns (total 25 columns):\n",
      "OFFENCE_FINYEAR         285444 non-null object\n",
      "OFFENCE_MONTH           285444 non-null object\n",
      "OFFENCE_CODE            285444 non-null int64\n",
      "OFFENCE_DESC            285444 non-null object\n",
      "LEGISLATION             285444 non-null object\n",
      "SECTION_CLAUSE          285444 non-null object\n",
      "FACE_VALUE              285444 non-null int64\n",
      "CAMERA_IND              189348 non-null object\n",
      "CAMERA_TYPE             188415 non-null object\n",
      "LOCATION_CODE           188440 non-null float64\n",
      "LOCATION_DETAILS        188440 non-null object\n",
      "SCHOOL_ZONE_IND         27379 non-null object\n",
      "SPEED_BAND              192139 non-null object\n",
      "SPEED_IND               162607 non-null object\n",
      "POINT_TO_POINT_IND      2140 non-null object\n",
      "RED_LIGHT_CAMERA_IND    28395 non-null object\n",
      "SPEED_CAMERA_IND        152634 non-null object\n",
      "SEATBELT_IND            1550 non-null object\n",
      "MOBILE_PHONE_IND        282 non-null object\n",
      "PARKING_IND             10135 non-null object\n",
      "CINS_IND                707 non-null object\n",
      "FOOD_IND                912 non-null object\n",
      "BICYCLE_TOY_ETC_IND     2393 non-null object\n",
      "TOTAL_NUMBER            285444 non-null int64\n",
      "TOTAL_VALUE             285444 non-null int64\n",
      "dtypes: float64(1), int64(4), object(20)\n",
      "memory usage: 294.7 MB\n"
     ]
    }
   ],
   "source": [
    "# Get some basic info from the data frame, specially the data types, if there is missing values, and memory usage\n",
    "df.info(memory_usage='deep')"
   ]
  },
  {
   "cell_type": "code",
   "execution_count": 50,
   "metadata": {},
   "outputs": [
    {
     "name": "stdout",
     "output_type": "stream",
     "text": [
      "Datatype object = ['OFFENCE_FINYEAR', 'OFFENCE_MONTH', 'OFFENCE_DESC', 'LEGISLATION', 'SECTION_CLAUSE', 'CAMERA_IND', 'CAMERA_TYPE', 'LOCATION_DETAILS', 'SCHOOL_ZONE_IND', 'SPEED_BAND', 'SPEED_IND', 'POINT_TO_POINT_IND', 'RED_LIGHT_CAMERA_IND', 'SPEED_CAMERA_IND', 'SEATBELT_IND', 'MOBILE_PHONE_IND', 'PARKING_IND', 'CINS_IND', 'FOOD_IND', 'BICYCLE_TOY_ETC_IND']\n",
      "Datatype category = []\n",
      "Datatype int64 = ['OFFENCE_CODE', 'FACE_VALUE', 'TOTAL_NUMBER', 'TOTAL_VALUE']\n",
      "Datatype float64 = ['LOCATION_CODE']\n"
     ]
    }
   ],
   "source": [
    "# Get a list of dtypes by the columns\n",
    "dtype_list = ['object', 'category', 'int64', 'float64']\n",
    "for i in dtype_list:\n",
    "    d_type = df.select_dtypes(include=i).columns.tolist()\n",
    "    print('Datatype {} = {}'.format(i, d_type))"
   ]
  },
  {
   "cell_type": "code",
   "execution_count": 51,
   "metadata": {},
   "outputs": [],
   "source": [
    "# Pass a variable with the list of columns to drop from the data frame\n",
    "df_drop = df.drop(['LEGISLATION', 'SECTION_CLAUSE'], axis='columns')"
   ]
  },
  {
   "cell_type": "code",
   "execution_count": 94,
   "metadata": {},
   "outputs": [],
   "source": [
    "# Drop the columns from the data frame\n",
    "df_lean = pd.DataFrame(df_drop)"
   ]
  },
  {
   "cell_type": "code",
   "execution_count": 143,
   "metadata": {
    "scrolled": true
   },
   "outputs": [
    {
     "name": "stdout",
     "output_type": "stream",
     "text": [
      "CAMERA_IND = 1, ___________Values [nan, 'Y']\n",
      "SCHOOL_ZONE_IND = 1, ___________Values [nan, 'Y']\n",
      "SPEED_IND = 1, ___________Values [nan, 'Y']\n",
      "POINT_TO_POINT_IND = 1, ___________Values [nan, 'Y']\n",
      "RED_LIGHT_CAMERA_IND = 1, ___________Values [nan, 'Y']\n",
      "SPEED_CAMERA_IND = 1, ___________Values [nan, 'Y']\n",
      "SEATBELT_IND = 1, ___________Values [nan, 'Y']\n",
      "MOBILE_PHONE_IND = 1, ___________Values [nan, 'Y']\n",
      "PARKING_IND = 1, ___________Values ['Y', nan]\n",
      "CINS_IND = 1, ___________Values [nan, 'Y']\n",
      "FOOD_IND = 1, ___________Values [nan, 'Y']\n",
      "BICYCLE_TOY_ETC_IND = 1, ___________Values [nan, 'Y']\n"
     ]
    }
   ],
   "source": [
    "# Check for missing values in columns with single unique values \n",
    "# Create a list for the columns\n",
    "single_uniq = []\n",
    "for k, v in df_lean.nunique().to_dict().items():\n",
    "    miss_ = df_lean[k].isnull().sum()\n",
    "    if miss_ > 0:\n",
    "        if v == 1:\n",
    "            unique_lst = pd.unique(df_lean[k].values.ravel()).tolist()\n",
    "            single_uniq.append(k)\n",
    "            print('{} = {}, ___________Values {}'.format(k,v, unique_lst))"
   ]
  },
  {
   "cell_type": "code",
   "execution_count": 144,
   "metadata": {},
   "outputs": [
    {
     "name": "stdout",
     "output_type": "stream",
     "text": [
      "CAMERA_TYPE = 7, ___________Values [nan, 'Mobile Digital Speed Camera', 'Red Light / Speed Camera']\n",
      "LOCATION_CODE = 2295, ___________Values [nan, 28330.0, 7120.0]\n",
      "LOCATION_DETAILS = 1982, ___________Values [nan, 'WOODWARD STREET ORANGE SOUTHBOUND', 'SOUTH DOWLING STREET SURRY HILLS NORTHBOUND']\n",
      "SPEED_BAND = 6, ___________Values [nan, 'EXCEED SPEED OVER 10KM/H', 'NOT STOP AT RED LIGHT']\n"
     ]
    }
   ],
   "source": [
    "# Check for missing values in columns with multiple unique values \n",
    "# Create a list for the columns\n",
    "multi_uniq = []\n",
    "for k, v in df_lean.nunique().to_dict().items():\n",
    "    miss_ = df_lean[k].isnull().sum()\n",
    "    if miss_ > 0:\n",
    "        if v > 1:\n",
    "            unique_lst = pd.unique(df_lean[k].values.ravel()).tolist()\n",
    "            multi_uniq.append(k)\n",
    "            print('{} = {}, ___________Values {}'.format(k,v, unique_lst[:3]))"
   ]
  },
  {
   "cell_type": "code",
   "execution_count": 145,
   "metadata": {},
   "outputs": [],
   "source": [
    "# Fill the missing values, in this case 'N' is appropriate\n",
    "df_lean[single_uniq] = df_lean[single_uniq].fillna('N')\n",
    "df_lean[multi_uniq] = df_lean[multi_uniq].fillna('N')"
   ]
  },
  {
   "cell_type": "code",
   "execution_count": 174,
   "metadata": {},
   "outputs": [],
   "source": [
    "# Create variabled for data type conversion\n",
    "# Convert to datetime\n",
    "date_time = 'OFFENCE_MONTH'\n",
    "\n",
    "# Convert to ordinal\n",
    "ord_list = ['OFFENCE_FINYEAR','OFFENCE_DESC', 'CAMERA_IND', 'CAMERA_TYPE', 'LOCATION_CODE', 'LOCATION_DETAILS', 'SCHOOL_ZONE_IND', 'SPEED_BAND', 'SPEED_IND', \n",
    "        'POINT_TO_POINT_IND', 'RED_LIGHT_CAMERA_IND', 'SPEED_CAMERA_IND', 'SEATBELT_IND', 'MOBILE_PHONE_IND', 'PARKING_IND', \n",
    "        'CINS_IND', 'FOOD_IND', 'BICYCLE_TOY_ETC_IND']\n",
    "\n",
    "# convert to float\n",
    "float_list = ['FACE_VALUE', 'TOTAL_VALUE']\n",
    "\n",
    "# Convert to int\n",
    "int_list = ['OFFENCE_CODE', 'TOTAL_NUMBER']"
   ]
  },
  {
   "cell_type": "code",
   "execution_count": 179,
   "metadata": {},
   "outputs": [],
   "source": [
    "# Convert to datetime so to read as time series\n",
    "df_lean[date_time] = pd.to_datetime(df_lean[date_time])\n",
    "\n",
    "# Convert to ordinal, doing so will save memory\n",
    "df_lean[ord_list] = df_lean[ord_list].astype('category')\n",
    "\n",
    "# Convert to int\n",
    "df_lean[int_list] = df_lean[int_list].astype('int64')\n",
    "\n",
    "# Convert to float\n",
    "df_lean[float_list] = df_lean[float_list].astype('float64')"
   ]
  },
  {
   "cell_type": "code",
   "execution_count": 180,
   "metadata": {},
   "outputs": [
    {
     "name": "stdout",
     "output_type": "stream",
     "text": [
      "<class 'pandas.core.frame.DataFrame'>\n",
      "RangeIndex: 285444 entries, 0 to 285443\n",
      "Data columns (total 23 columns):\n",
      "OFFENCE_FINYEAR         285444 non-null category\n",
      "OFFENCE_MONTH           285444 non-null datetime64[ns]\n",
      "OFFENCE_CODE            285444 non-null int64\n",
      "OFFENCE_DESC            285444 non-null category\n",
      "FACE_VALUE              285444 non-null float64\n",
      "CAMERA_IND              285444 non-null category\n",
      "CAMERA_TYPE             285444 non-null category\n",
      "LOCATION_CODE           285444 non-null category\n",
      "LOCATION_DETAILS        285444 non-null category\n",
      "SCHOOL_ZONE_IND         285444 non-null category\n",
      "SPEED_BAND              285444 non-null category\n",
      "SPEED_IND               285444 non-null category\n",
      "POINT_TO_POINT_IND      285444 non-null category\n",
      "RED_LIGHT_CAMERA_IND    285444 non-null category\n",
      "SPEED_CAMERA_IND        285444 non-null category\n",
      "SEATBELT_IND            285444 non-null category\n",
      "MOBILE_PHONE_IND        285444 non-null category\n",
      "PARKING_IND             285444 non-null category\n",
      "CINS_IND                285444 non-null category\n",
      "FOOD_IND                285444 non-null category\n",
      "BICYCLE_TOY_ETC_IND     285444 non-null category\n",
      "TOTAL_NUMBER            285444 non-null int64\n",
      "TOTAL_VALUE             285444 non-null float64\n",
      "dtypes: category(18), datetime64[ns](1), float64(2), int64(2)\n",
      "memory usage: 17.8 MB\n"
     ]
    }
   ],
   "source": [
    "# Final check to make sure the data frame is as expected. Note, how the memory usage was reduced, due to data type conversion\n",
    "df_lean.info(memory_usage='deep')"
   ]
  },
  {
   "cell_type": "code",
   "execution_count": 189,
   "metadata": {},
   "outputs": [],
   "source": [
    "# Set path to save data file\n",
    "file_path_to_save = '..\\Data_sets\\Intermediate_data'"
   ]
  },
  {
   "cell_type": "code",
   "execution_count": 192,
   "metadata": {},
   "outputs": [],
   "source": [
    "# Save data file to csv format\n",
    "df_lean.to_csv(file_path_to_save+'\\pol_data_clean.csv', index=False)"
   ]
  }
 ],
 "metadata": {
  "kernelspec": {
   "display_name": "Python 3",
   "language": "python",
   "name": "python3"
  },
  "language_info": {
   "codemirror_mode": {
    "name": "ipython",
    "version": 3
   },
   "file_extension": ".py",
   "mimetype": "text/x-python",
   "name": "python",
   "nbconvert_exporter": "python",
   "pygments_lexer": "ipython3",
   "version": "3.6.6"
  }
 },
 "nbformat": 4,
 "nbformat_minor": 2
}
